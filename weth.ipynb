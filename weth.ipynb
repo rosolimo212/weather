{
 "cells": [
  {
   "cell_type": "code",
   "execution_count": 1,
   "metadata": {},
   "outputs": [],
   "source": [
    "# coding: utf-8\n",
    "import numpy as np\n",
    "import pandas as pd\n",
    "\n",
    "pd.set_option('display.max_rows', 45000)\n",
    "pd.set_option('display.max_columns', 50000)\n",
    "pd.set_option('display.max_colwidth', 5000)\n",
    "\n",
    "import os\n",
    "current_dir = os.path.abspath(os.getcwd())\n",
    "parent_dir = os.path.dirname(current_dir)\n",
    "\n",
    "import sys\n",
    "sys.path.append(current_dir)\n",
    "\n",
    "import weth_api as wa\n",
    "import gpt\n",
    "import data_load as dl\n"
   ]
  },
  {
   "cell_type": "code",
   "execution_count": 4,
   "metadata": {},
   "outputs": [],
   "source": [
    "# getting credles\n",
    "forecast_settings = dl.read_yaml_config('config.yaml', section='api.weatherapi.com')\n",
    "base_url = forecast_settings['url']\n",
    "method = forecast_settings['method']\n",
    "forecast_api_key = forecast_settings['api_key']\n",
    "\n",
    "gpt_settings = dl.read_yaml_config('config.yaml', section='gpt')\n",
    "gpt_api_key = gpt_settings['api_key']"
   ]
  },
  {
   "cell_type": "code",
   "execution_count": 5,
   "metadata": {},
   "outputs": [
    {
     "name": "stderr",
     "output_type": "stream",
     "text": [
      "/home/roman/python/weather/weth_api.py:176: SettingWithCopyWarning: \n",
      "A value is trying to be set on a copy of a slice from a DataFrame.\n",
      "Try using .loc[row_indexer,col_indexer] = value instead\n",
      "\n",
      "See the caveats in the documentation: https://pandas.pydata.org/pandas-docs/stable/user_guide/indexing.html#returning-a-view-versus-a-copy\n",
      "  work_df['hour'] = work_df.index\n"
     ]
    }
   ],
   "source": [
    "# getting weahter forecast for current place for nearest day hourly\n",
    "# gwd = wa.get_weth_data(forecast_api_key, base_url, method, '36.757594, 31.45268', 7) # anatolia\n",
    "# gwd = wa.get_weth_data(forecast_api_key, base_url, method, '55.752539, 37.808001', 7) # moscow\n",
    "# gwd = wa.get_weth_data(forecast_api_key, base_url, method, '41.692665, 44.801543', 7) # tbilisi\n",
    "gwd = wa.get_weth_data(forecast_api_key, base_url, method, 'Москва', 7) # nyc\n",
    "\n",
    "df = wa.load_weth_data_to_df(gwd)\n",
    "forec_message = wa.get_txt_for_forecast(df)\n",
    "agpt_answer = gpt.send_message(gpt_api_key, forec_message, model='gpt-4o-mini')"
   ]
  },
  {
   "cell_type": "code",
   "execution_count": 6,
   "metadata": {},
   "outputs": [
    {
     "data": {
      "text/plain": [
       "'Температура ожидается около 16-18°C, ветер достаточно сильный. Осадков не предсказывается, но стоит учитывать ветер.\\n\\n**Рекомендации для взрослых:**  \\nОденьтесь в легкую куртку или ветровку, чтобы защититься от ветра. Под низ можете выбрать футболку или легкий свитер. Обувь лучше предпочтительно удобная, без шнурков, например, кроссовки или сандали.\\n\\n**Рекомендации для ребёнка 3-5 лет:**  \\nДля ребенка подойдет легкая куртка или ветровка, под которую наденьте футболку. Обувь — удобные кроссовки или сандали, чтобы они легко снимались и надевались. Не забудьте про головной убор, чтобы защитить от солнца.'"
      ]
     },
     "execution_count": 6,
     "metadata": {},
     "output_type": "execute_result"
    }
   ],
   "source": [
    "agpt_answer"
   ]
  },
  {
   "cell_type": "code",
   "execution_count": 7,
   "metadata": {},
   "outputs": [
    {
     "name": "stderr",
     "output_type": "stream",
     "text": [
      "/home/roman/python/weather/weth_api.py:176: SettingWithCopyWarning: \n",
      "A value is trying to be set on a copy of a slice from a DataFrame.\n",
      "Try using .loc[row_indexer,col_indexer] = value instead\n",
      "\n",
      "See the caveats in the documentation: https://pandas.pydata.org/pandas-docs/stable/user_guide/indexing.html#returning-a-view-versus-a-copy\n",
      "  work_df['hour'] = work_df.index\n"
     ]
    },
    {
     "data": {
      "text/plain": [
       "'В ближайшее время температура составит 18.0: уменьшится с 18.5 до 16.8\\nВ ближайшее время воспринимаемая температура составит 18.0: уменьшится с 18.5 до 16.8\\n'"
      ]
     },
     "execution_count": 7,
     "metadata": {},
     "output_type": "execute_result"
    }
   ],
   "source": [
    "wa.get_txt_for_forecast(df, metrics=[0,1], is_templ=0)"
   ]
  },
  {
   "cell_type": "code",
   "execution_count": 8,
   "metadata": {},
   "outputs": [
    {
     "name": "stderr",
     "output_type": "stream",
     "text": [
      "/home/roman/python/weather/weth_api.py:176: SettingWithCopyWarning: \n",
      "A value is trying to be set on a copy of a slice from a DataFrame.\n",
      "Try using .loc[row_indexer,col_indexer] = value instead\n",
      "\n",
      "See the caveats in the documentation: https://pandas.pydata.org/pandas-docs/stable/user_guide/indexing.html#returning-a-view-versus-a-copy\n",
      "  work_df['hour'] = work_df.index\n"
     ]
    },
    {
     "data": {
      "text/plain": [
       "'В ближайшее время вероятность дождя составит 0.0 и практически не изменится\\n'"
      ]
     },
     "execution_count": 8,
     "metadata": {},
     "output_type": "execute_result"
    }
   ],
   "source": [
    "wa.get_txt_for_forecast(df, metrics=[9], is_templ=0)"
   ]
  },
  {
   "cell_type": "code",
   "execution_count": 9,
   "metadata": {},
   "outputs": [
    {
     "data": {
      "text/html": [
       "<div>\n",
       "<style scoped>\n",
       "    .dataframe tbody tr th:only-of-type {\n",
       "        vertical-align: middle;\n",
       "    }\n",
       "\n",
       "    .dataframe tbody tr th {\n",
       "        vertical-align: top;\n",
       "    }\n",
       "\n",
       "    .dataframe thead th {\n",
       "        text-align: right;\n",
       "    }\n",
       "</style>\n",
       "<table border=\"1\" class=\"dataframe\">\n",
       "  <thead>\n",
       "    <tr style=\"text-align: right;\">\n",
       "      <th></th>\n",
       "      <th>time</th>\n",
       "      <th>time_epoch</th>\n",
       "      <th>is_day</th>\n",
       "      <th>temp_c</th>\n",
       "      <th>feelslike_c</th>\n",
       "      <th>windchill_c</th>\n",
       "      <th>heatindex_c</th>\n",
       "      <th>condition</th>\n",
       "      <th>wind_kph</th>\n",
       "      <th>wind_dir</th>\n",
       "      <th>pressure_hg</th>\n",
       "      <th>precip_mm</th>\n",
       "      <th>humidity</th>\n",
       "      <th>cloud</th>\n",
       "      <th>will_it_rain</th>\n",
       "      <th>will_it_snow</th>\n",
       "      <th>chance_of_rain</th>\n",
       "      <th>chance_of_snow</th>\n",
       "      <th>uv</th>\n",
       "      <th>place</th>\n",
       "      <th>region</th>\n",
       "      <th>country</th>\n",
       "      <th>lat</th>\n",
       "      <th>lon</th>\n",
       "    </tr>\n",
       "  </thead>\n",
       "  <tbody>\n",
       "    <tr>\n",
       "      <th>0</th>\n",
       "      <td>2024-07-31 00:00:00</td>\n",
       "      <td>1722373200</td>\n",
       "      <td>0</td>\n",
       "      <td>15.0</td>\n",
       "      <td>15.0</td>\n",
       "      <td>15.0</td>\n",
       "      <td>15.0</td>\n",
       "      <td>Partly Cloudy</td>\n",
       "      <td>9.4</td>\n",
       "      <td>NW</td>\n",
       "      <td>749.311621</td>\n",
       "      <td>0.0</td>\n",
       "      <td>79</td>\n",
       "      <td>35</td>\n",
       "      <td>0</td>\n",
       "      <td>0</td>\n",
       "      <td>0</td>\n",
       "      <td>0</td>\n",
       "      <td>0.0</td>\n",
       "      <td>Москва</td>\n",
       "      <td>Moscow City</td>\n",
       "      <td>Россия</td>\n",
       "      <td>55.75</td>\n",
       "      <td>37.62</td>\n",
       "    </tr>\n",
       "    <tr>\n",
       "      <th>6</th>\n",
       "      <td>2024-07-31 06:00:00</td>\n",
       "      <td>1722394800</td>\n",
       "      <td>1</td>\n",
       "      <td>15.3</td>\n",
       "      <td>15.3</td>\n",
       "      <td>15.3</td>\n",
       "      <td>15.3</td>\n",
       "      <td>Partly Cloudy</td>\n",
       "      <td>14.4</td>\n",
       "      <td>NW</td>\n",
       "      <td>750.061683</td>\n",
       "      <td>0.0</td>\n",
       "      <td>77</td>\n",
       "      <td>30</td>\n",
       "      <td>0</td>\n",
       "      <td>0</td>\n",
       "      <td>0</td>\n",
       "      <td>0</td>\n",
       "      <td>5.0</td>\n",
       "      <td>Москва</td>\n",
       "      <td>Moscow City</td>\n",
       "      <td>Россия</td>\n",
       "      <td>55.75</td>\n",
       "      <td>37.62</td>\n",
       "    </tr>\n",
       "    <tr>\n",
       "      <th>23</th>\n",
       "      <td>2024-07-31 23:00:00</td>\n",
       "      <td>1722456000</td>\n",
       "      <td>0</td>\n",
       "      <td>15.6</td>\n",
       "      <td>15.6</td>\n",
       "      <td>15.6</td>\n",
       "      <td>15.6</td>\n",
       "      <td>Partly Cloudy</td>\n",
       "      <td>10.1</td>\n",
       "      <td>WNW</td>\n",
       "      <td>751.561806</td>\n",
       "      <td>0.0</td>\n",
       "      <td>87</td>\n",
       "      <td>57</td>\n",
       "      <td>0</td>\n",
       "      <td>0</td>\n",
       "      <td>0</td>\n",
       "      <td>0</td>\n",
       "      <td>0.0</td>\n",
       "      <td>Москва</td>\n",
       "      <td>Moscow City</td>\n",
       "      <td>Россия</td>\n",
       "      <td>55.75</td>\n",
       "      <td>37.62</td>\n",
       "    </tr>\n",
       "  </tbody>\n",
       "</table>\n",
       "</div>"
      ],
      "text/plain": [
       "                  time  time_epoch  is_day  temp_c  feelslike_c  windchill_c  \\\n",
       "0  2024-07-31 00:00:00  1722373200       0    15.0         15.0         15.0   \n",
       "6  2024-07-31 06:00:00  1722394800       1    15.3         15.3         15.3   \n",
       "23 2024-07-31 23:00:00  1722456000       0    15.6         15.6         15.6   \n",
       "\n",
       "    heatindex_c       condition  wind_kph wind_dir  pressure_hg  precip_mm  \\\n",
       "0          15.0  Partly Cloudy        9.4       NW   749.311621        0.0   \n",
       "6          15.3  Partly Cloudy       14.4       NW   750.061683        0.0   \n",
       "23         15.6  Partly Cloudy       10.1      WNW   751.561806        0.0   \n",
       "\n",
       "    humidity  cloud  will_it_rain  will_it_snow  chance_of_rain  \\\n",
       "0         79     35             0             0               0   \n",
       "6         77     30             0             0               0   \n",
       "23        87     57             0             0               0   \n",
       "\n",
       "    chance_of_snow   uv   place       region country    lat    lon  \n",
       "0                0  0.0  Москва  Moscow City  Россия  55.75  37.62  \n",
       "6                0  5.0  Москва  Moscow City  Россия  55.75  37.62  \n",
       "23               0  0.0  Москва  Moscow City  Россия  55.75  37.62  "
      ]
     },
     "execution_count": 9,
     "metadata": {},
     "output_type": "execute_result"
    }
   ],
   "source": [
    "df.sample(3)"
   ]
  },
  {
   "cell_type": "code",
   "execution_count": null,
   "metadata": {},
   "outputs": [],
   "source": []
  },
  {
   "cell_type": "code",
   "execution_count": null,
   "metadata": {},
   "outputs": [],
   "source": []
  },
  {
   "cell_type": "code",
   "execution_count": null,
   "metadata": {},
   "outputs": [],
   "source": []
  }
 ],
 "metadata": {
  "kernelspec": {
   "display_name": "Python 3",
   "language": "python",
   "name": "python3"
  },
  "language_info": {
   "codemirror_mode": {
    "name": "ipython",
    "version": 3
   },
   "file_extension": ".py",
   "mimetype": "text/x-python",
   "name": "python",
   "nbconvert_exporter": "python",
   "pygments_lexer": "ipython3",
   "version": "3.10.12"
  }
 },
 "nbformat": 4,
 "nbformat_minor": 2
}
