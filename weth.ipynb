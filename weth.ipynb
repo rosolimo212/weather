{
 "cells": [
  {
   "cell_type": "code",
   "execution_count": 1,
   "metadata": {},
   "outputs": [],
   "source": [
    "# coding: utf-8\n",
    "import numpy as np\n",
    "import pandas as pd\n",
    "\n",
    "pd.set_option('display.max_rows', 45000)\n",
    "pd.set_option('display.max_columns', 50000)\n",
    "pd.set_option('display.max_colwidth', 5000)\n",
    "\n",
    "import os\n",
    "current_dir = os.path.abspath(os.getcwd())\n",
    "parent_dir = os.path.dirname(current_dir)\n",
    "\n",
    "import sys\n",
    "sys.path.append(current_dir)\n",
    "\n",
    "import weth_api as wa\n",
    "import gpt\n"
   ]
  },
  {
   "cell_type": "code",
   "execution_count": 2,
   "metadata": {},
   "outputs": [],
   "source": [
    "# getting credles\n",
    "forecast_settings = wa.read_yaml_config('config.yaml', section='api.weatherapi.com')\n",
    "base_url = forecast_settings['url']\n",
    "method = forecast_settings['method']\n",
    "forecast_api_key = forecast_settings['api_key']\n",
    "\n",
    "gpt_settings = wa.read_yaml_config('config.yaml', section='gpt')\n",
    "gpt_api_key = gpt_settings['api_key']"
   ]
  },
  {
   "cell_type": "code",
   "execution_count": 4,
   "metadata": {},
   "outputs": [],
   "source": [
    "# getting weahter forecast for current place for nearest day hourly\n",
    "gwd = wa.get_weth_data(forecast_api_key, base_url, method, '36.757594, 31.45268', 7)\n",
    "df = wa.load_weth_data_to_df(gwd)"
   ]
  },
  {
   "cell_type": "code",
   "execution_count": 5,
   "metadata": {},
   "outputs": [
    {
     "data": {
      "text/html": [
       "<div>\n",
       "<style scoped>\n",
       "    .dataframe tbody tr th:only-of-type {\n",
       "        vertical-align: middle;\n",
       "    }\n",
       "\n",
       "    .dataframe tbody tr th {\n",
       "        vertical-align: top;\n",
       "    }\n",
       "\n",
       "    .dataframe thead th {\n",
       "        text-align: right;\n",
       "    }\n",
       "</style>\n",
       "<table border=\"1\" class=\"dataframe\">\n",
       "  <thead>\n",
       "    <tr style=\"text-align: right;\">\n",
       "      <th></th>\n",
       "      <th>time</th>\n",
       "      <th>is_day</th>\n",
       "      <th>temp_c</th>\n",
       "      <th>feelslike_c</th>\n",
       "      <th>windchill_c</th>\n",
       "      <th>heatindex_c</th>\n",
       "      <th>condition</th>\n",
       "      <th>wind_kph</th>\n",
       "      <th>wind_dir</th>\n",
       "      <th>pressure_hg</th>\n",
       "      <th>precip_mm</th>\n",
       "      <th>humidity</th>\n",
       "      <th>cloud</th>\n",
       "      <th>will_it_rain</th>\n",
       "      <th>will_it_snow</th>\n",
       "      <th>chance_of_rain</th>\n",
       "      <th>chance_of_snow</th>\n",
       "      <th>uv</th>\n",
       "      <th>place</th>\n",
       "      <th>region</th>\n",
       "      <th>country</th>\n",
       "      <th>lat</th>\n",
       "      <th>lon</th>\n",
       "    </tr>\n",
       "  </thead>\n",
       "  <tbody>\n",
       "    <tr>\n",
       "      <th>12</th>\n",
       "      <td>2024-07-27 12:00:00</td>\n",
       "      <td>1</td>\n",
       "      <td>34.6</td>\n",
       "      <td>36.7</td>\n",
       "      <td>34.6</td>\n",
       "      <td>36.7</td>\n",
       "      <td>Sunny</td>\n",
       "      <td>6.5</td>\n",
       "      <td>WSW</td>\n",
       "      <td>753.061930</td>\n",
       "      <td>0.0</td>\n",
       "      <td>38</td>\n",
       "      <td>0</td>\n",
       "      <td>0</td>\n",
       "      <td>0</td>\n",
       "      <td>0</td>\n",
       "      <td>0</td>\n",
       "      <td>8.0</td>\n",
       "      <td>Manavgat</td>\n",
       "      <td>Antalya</td>\n",
       "      <td>Turkey</td>\n",
       "      <td>36.76</td>\n",
       "      <td>31.45</td>\n",
       "    </tr>\n",
       "    <tr>\n",
       "      <th>8</th>\n",
       "      <td>2024-07-24 08:00:00</td>\n",
       "      <td>1</td>\n",
       "      <td>31.1</td>\n",
       "      <td>35.0</td>\n",
       "      <td>31.2</td>\n",
       "      <td>35.0</td>\n",
       "      <td>Sunny</td>\n",
       "      <td>9.7</td>\n",
       "      <td>S</td>\n",
       "      <td>750.811745</td>\n",
       "      <td>0.0</td>\n",
       "      <td>58</td>\n",
       "      <td>3</td>\n",
       "      <td>0</td>\n",
       "      <td>0</td>\n",
       "      <td>0</td>\n",
       "      <td>0</td>\n",
       "      <td>8.0</td>\n",
       "      <td>Manavgat</td>\n",
       "      <td>Antalya</td>\n",
       "      <td>Turkey</td>\n",
       "      <td>36.76</td>\n",
       "      <td>31.45</td>\n",
       "    </tr>\n",
       "    <tr>\n",
       "      <th>20</th>\n",
       "      <td>2024-07-26 20:00:00</td>\n",
       "      <td>1</td>\n",
       "      <td>27.9</td>\n",
       "      <td>31.4</td>\n",
       "      <td>27.9</td>\n",
       "      <td>31.4</td>\n",
       "      <td>Sunny</td>\n",
       "      <td>6.5</td>\n",
       "      <td>WSW</td>\n",
       "      <td>751.561806</td>\n",
       "      <td>0.0</td>\n",
       "      <td>75</td>\n",
       "      <td>8</td>\n",
       "      <td>0</td>\n",
       "      <td>0</td>\n",
       "      <td>0</td>\n",
       "      <td>0</td>\n",
       "      <td>7.0</td>\n",
       "      <td>Manavgat</td>\n",
       "      <td>Antalya</td>\n",
       "      <td>Turkey</td>\n",
       "      <td>36.76</td>\n",
       "      <td>31.45</td>\n",
       "    </tr>\n",
       "  </tbody>\n",
       "</table>\n",
       "</div>"
      ],
      "text/plain": [
       "                  time  is_day  temp_c  feelslike_c  windchill_c  heatindex_c  \\\n",
       "12 2024-07-27 12:00:00       1    34.6         36.7         34.6         36.7   \n",
       "8  2024-07-24 08:00:00       1    31.1         35.0         31.2         35.0   \n",
       "20 2024-07-26 20:00:00       1    27.9         31.4         27.9         31.4   \n",
       "\n",
       "   condition  wind_kph wind_dir  pressure_hg  precip_mm  humidity  cloud  \\\n",
       "12     Sunny       6.5      WSW   753.061930        0.0        38      0   \n",
       "8      Sunny       9.7        S   750.811745        0.0        58      3   \n",
       "20     Sunny       6.5      WSW   751.561806        0.0        75      8   \n",
       "\n",
       "    will_it_rain  will_it_snow  chance_of_rain  chance_of_snow   uv     place  \\\n",
       "12             0             0               0               0  8.0  Manavgat   \n",
       "8              0             0               0               0  8.0  Manavgat   \n",
       "20             0             0               0               0  7.0  Manavgat   \n",
       "\n",
       "     region country    lat    lon  \n",
       "12  Antalya  Turkey  36.76  31.45  \n",
       "8   Antalya  Turkey  36.76  31.45  \n",
       "20  Antalya  Turkey  36.76  31.45  "
      ]
     },
     "execution_count": 5,
     "metadata": {},
     "output_type": "execute_result"
    }
   ],
   "source": [
    "df.sample(3)"
   ]
  },
  {
   "cell_type": "code",
   "execution_count": 6,
   "metadata": {},
   "outputs": [
    {
     "data": {
      "text/plain": [
       "numpy.datetime64('2024-07-24T00:00:00.000000000')"
      ]
     },
     "execution_count": 6,
     "metadata": {},
     "output_type": "execute_result"
    }
   ],
   "source": [
    "df['time'].values[0]"
   ]
  },
  {
   "cell_type": "code",
   "execution_count": 15,
   "metadata": {},
   "outputs": [
    {
     "name": "stderr",
     "output_type": "stream",
     "text": [
      "/tmp/ipykernel_74007/2171614536.py:5: SettingWithCopyWarning: \n",
      "A value is trying to be set on a copy of a slice from a DataFrame.\n",
      "Try using .loc[row_indexer,col_indexer] = value instead\n",
      "\n",
      "See the caveats in the documentation: https://pandas.pydata.org/pandas-docs/stable/user_guide/indexing.html#returning-a-view-versus-a-copy\n",
      "  work_df['hour'] = work_df['time'].dt.hour\n"
     ]
    }
   ],
   "source": [
    "work_df = df[\n",
    "    (df['time'] >= np.datetime64('2024-07-24T16:00:00.000000000')) &\n",
    "    (df['time'] < np.datetime64('2024-07-24T20:00:00.000000000'))\n",
    "]\n",
    "work_df['hour'] = work_df['time'].dt.hour"
   ]
  },
  {
   "cell_type": "code",
   "execution_count": 13,
   "metadata": {},
   "outputs": [],
   "source": [
    "def linear(x, k, b, c) -> float:\n",
    "    \"\"\"\n",
    "    Просто прямая\n",
    "\n",
    "    Параметры:\n",
    "    x (int or float): переменная\n",
    "    k,b,c (int or float): параметры функции\n",
    "\n",
    "    Возвращает:\n",
    "    значение функции y = f(x)\n",
    "    \"\"\"\n",
    "    return k * x + b"
   ]
  },
  {
   "cell_type": "code",
   "execution_count": 100,
   "metadata": {},
   "outputs": [],
   "source": [
    "def calc_trends(work_df, x, y):\n",
    "    from scipy.optimize import curve_fit\n",
    "    popt, pcov = curve_fit(linear, work_df[x], work_df[y], \n",
    "                        # bounds=[0, np.inf],\n",
    "                        method='trf',  #'lm', 'trf', 'dogbox'\n",
    "                        )\n",
    "    res = ''\n",
    "    if popt[0] >= 0.05:\n",
    "        res = 1 \n",
    "    elif popt[0] <= -0.05:\n",
    "        res = -1\n",
    "    else:\n",
    "        res = 0\n",
    "    return res\n",
    "def calc_metric(work_df, x, y):\n",
    "    min = np.min(work_df[y])\n",
    "    max = np.max(work_df[y])\n",
    "    mean = np.mean(work_df[y])\n",
    "    trend = calc_trends(work_df, x, y)\n",
    "\n",
    "    if trend == 1:\n",
    "        trend_rus = 'вырастет'\n",
    "    elif trend == -1:\n",
    "        trend_rus = 'уменьшится'\n",
    "    else:\n",
    "        trend_rus = 'практически не изменится'\n",
    "\n",
    "    txt = \"В ближайшее время \" + y + \" будет \" + str(mean) + \": \" + trend_rus + \" с \" + str(min) + \" до \" + str(max) \n",
    "\n",
    "    return txt"
   ]
  },
  {
   "cell_type": "code",
   "execution_count": 101,
   "metadata": {},
   "outputs": [
    {
     "data": {
      "text/plain": [
       "'В ближайшее время humidity будет 67.25: вырастет с 63 до 74'"
      ]
     },
     "execution_count": 101,
     "metadata": {},
     "output_type": "execute_result"
    }
   ],
   "source": [
    "calc_metric(work_df, 'hour', 'humidity')"
   ]
  },
  {
   "cell_type": "code",
   "execution_count": 85,
   "metadata": {},
   "outputs": [
    {
     "data": {
      "text/plain": [
       "0"
      ]
     },
     "execution_count": 85,
     "metadata": {},
     "output_type": "execute_result"
    }
   ],
   "source": [
    "calc_trends(work_df, 'hour', 'pressure_hg')"
   ]
  },
  {
   "cell_type": "code",
   "execution_count": 86,
   "metadata": {},
   "outputs": [
    {
     "data": {
      "text/plain": [
       "-1"
      ]
     },
     "execution_count": 86,
     "metadata": {},
     "output_type": "execute_result"
    }
   ],
   "source": [
    "calc_trends(work_df, 'hour', 'feelslike_c')"
   ]
  },
  {
   "cell_type": "code",
   "execution_count": 87,
   "metadata": {},
   "outputs": [
    {
     "data": {
      "text/plain": [
       "1"
      ]
     },
     "execution_count": 87,
     "metadata": {},
     "output_type": "execute_result"
    }
   ],
   "source": [
    "calc_trends(work_df, 'hour', 'humidity')"
   ]
  },
  {
   "cell_type": "code",
   "execution_count": 82,
   "metadata": {},
   "outputs": [
    {
     "data": {
      "text/plain": [
       "16    63\n",
       "17    65\n",
       "18    67\n",
       "19    74\n",
       "Name: humidity, dtype: int64"
      ]
     },
     "execution_count": 82,
     "metadata": {},
     "output_type": "execute_result"
    }
   ],
   "source": [
    "work_df['humidity']"
   ]
  },
  {
   "cell_type": "code",
   "execution_count": 79,
   "metadata": {},
   "outputs": [
    {
     "data": {
      "text/plain": [
       "<Axes: xlabel='hour'>"
      ]
     },
     "execution_count": 79,
     "metadata": {},
     "output_type": "execute_result"
    },
    {
     "data": {
      "image/png": "[encoded data removed]",
      "text/plain": [
       "<Figure size 640x480 with 1 Axes>"
      ]
     },
     "metadata": {},
     "output_type": "display_data"
    }
   ],
   "source": [
    "work_df.set_index('hour')[['humidity', 'linear']].plot()"
   ]
  },
  {
   "cell_type": "code",
   "execution_count": 47,
   "metadata": {},
   "outputs": [
    {
     "data": {
      "text/html": [
       "<div>\n",
       "<style scoped>\n",
       "    .dataframe tbody tr th:only-of-type {\n",
       "        vertical-align: middle;\n",
       "    }\n",
       "\n",
       "    .dataframe tbody tr th {\n",
       "        vertical-align: top;\n",
       "    }\n",
       "\n",
       "    .dataframe thead th {\n",
       "        text-align: right;\n",
       "    }\n",
       "</style>\n",
       "<table border=\"1\" class=\"dataframe\">\n",
       "  <thead>\n",
       "    <tr style=\"text-align: right;\">\n",
       "      <th></th>\n",
       "      <th>time</th>\n",
       "      <th>is_day</th>\n",
       "      <th>temp_c</th>\n",
       "      <th>feelslike_c</th>\n",
       "      <th>windchill_c</th>\n",
       "      <th>heatindex_c</th>\n",
       "      <th>condition</th>\n",
       "      <th>wind_kph</th>\n",
       "      <th>wind_dir</th>\n",
       "      <th>pressure_hg</th>\n",
       "      <th>precip_mm</th>\n",
       "      <th>humidity</th>\n",
       "      <th>cloud</th>\n",
       "      <th>will_it_rain</th>\n",
       "      <th>will_it_snow</th>\n",
       "      <th>chance_of_rain</th>\n",
       "      <th>chance_of_snow</th>\n",
       "      <th>uv</th>\n",
       "      <th>place</th>\n",
       "      <th>region</th>\n",
       "      <th>country</th>\n",
       "      <th>lat</th>\n",
       "      <th>lon</th>\n",
       "      <th>hour</th>\n",
       "      <th>linear</th>\n",
       "    </tr>\n",
       "  </thead>\n",
       "  <tbody>\n",
       "    <tr>\n",
       "      <th>16</th>\n",
       "      <td>2024-07-24 16:00:00</td>\n",
       "      <td>1</td>\n",
       "      <td>31.0</td>\n",
       "      <td>35.8</td>\n",
       "      <td>31.0</td>\n",
       "      <td>35.8</td>\n",
       "      <td>Sunny</td>\n",
       "      <td>13.3</td>\n",
       "      <td>SSE</td>\n",
       "      <td>750.061683</td>\n",
       "      <td>0.0</td>\n",
       "      <td>63</td>\n",
       "      <td>0</td>\n",
       "      <td>0</td>\n",
       "      <td>0</td>\n",
       "      <td>0</td>\n",
       "      <td>0</td>\n",
       "      <td>8.0</td>\n",
       "      <td>Manavgat</td>\n",
       "      <td>Antalya</td>\n",
       "      <td>Turkey</td>\n",
       "      <td>36.76</td>\n",
       "      <td>31.45</td>\n",
       "      <td>16</td>\n",
       "      <td>44.499925</td>\n",
       "    </tr>\n",
       "    <tr>\n",
       "      <th>17</th>\n",
       "      <td>2024-07-24 17:00:00</td>\n",
       "      <td>1</td>\n",
       "      <td>30.5</td>\n",
       "      <td>35.0</td>\n",
       "      <td>30.5</td>\n",
       "      <td>35.0</td>\n",
       "      <td>Sunny</td>\n",
       "      <td>12.6</td>\n",
       "      <td>SSE</td>\n",
       "      <td>750.061683</td>\n",
       "      <td>0.0</td>\n",
       "      <td>65</td>\n",
       "      <td>0</td>\n",
       "      <td>0</td>\n",
       "      <td>0</td>\n",
       "      <td>0</td>\n",
       "      <td>0</td>\n",
       "      <td>8.0</td>\n",
       "      <td>Manavgat</td>\n",
       "      <td>Antalya</td>\n",
       "      <td>Turkey</td>\n",
       "      <td>36.76</td>\n",
       "      <td>31.45</td>\n",
       "      <td>17</td>\n",
       "      <td>43.669929</td>\n",
       "    </tr>\n",
       "    <tr>\n",
       "      <th>18</th>\n",
       "      <td>2024-07-24 18:00:00</td>\n",
       "      <td>1</td>\n",
       "      <td>30.0</td>\n",
       "      <td>34.3</td>\n",
       "      <td>30.0</td>\n",
       "      <td>34.3</td>\n",
       "      <td>Sunny</td>\n",
       "      <td>10.8</td>\n",
       "      <td>SSE</td>\n",
       "      <td>750.061683</td>\n",
       "      <td>0.0</td>\n",
       "      <td>67</td>\n",
       "      <td>0</td>\n",
       "      <td>0</td>\n",
       "      <td>0</td>\n",
       "      <td>0</td>\n",
       "      <td>0</td>\n",
       "      <td>7.0</td>\n",
       "      <td>Manavgat</td>\n",
       "      <td>Antalya</td>\n",
       "      <td>Turkey</td>\n",
       "      <td>36.76</td>\n",
       "      <td>31.45</td>\n",
       "      <td>18</td>\n",
       "      <td>42.839934</td>\n",
       "    </tr>\n",
       "    <tr>\n",
       "      <th>19</th>\n",
       "      <td>2024-07-24 19:00:00</td>\n",
       "      <td>1</td>\n",
       "      <td>28.4</td>\n",
       "      <td>32.3</td>\n",
       "      <td>28.4</td>\n",
       "      <td>32.3</td>\n",
       "      <td>Sunny</td>\n",
       "      <td>7.9</td>\n",
       "      <td>SSE</td>\n",
       "      <td>750.061683</td>\n",
       "      <td>0.0</td>\n",
       "      <td>74</td>\n",
       "      <td>0</td>\n",
       "      <td>0</td>\n",
       "      <td>0</td>\n",
       "      <td>0</td>\n",
       "      <td>0</td>\n",
       "      <td>7.0</td>\n",
       "      <td>Manavgat</td>\n",
       "      <td>Antalya</td>\n",
       "      <td>Turkey</td>\n",
       "      <td>36.76</td>\n",
       "      <td>31.45</td>\n",
       "      <td>19</td>\n",
       "      <td>42.009938</td>\n",
       "    </tr>\n",
       "  </tbody>\n",
       "</table>\n",
       "</div>"
      ],
      "text/plain": [
       "                  time  is_day  temp_c  feelslike_c  windchill_c  heatindex_c  \\\n",
       "16 2024-07-24 16:00:00       1    31.0         35.8         31.0         35.8   \n",
       "17 2024-07-24 17:00:00       1    30.5         35.0         30.5         35.0   \n",
       "18 2024-07-24 18:00:00       1    30.0         34.3         30.0         34.3   \n",
       "19 2024-07-24 19:00:00       1    28.4         32.3         28.4         32.3   \n",
       "\n",
       "   condition  wind_kph wind_dir  pressure_hg  precip_mm  humidity  cloud  \\\n",
       "16     Sunny      13.3      SSE   750.061683        0.0        63      0   \n",
       "17     Sunny      12.6      SSE   750.061683        0.0        65      0   \n",
       "18     Sunny      10.8      SSE   750.061683        0.0        67      0   \n",
       "19     Sunny       7.9      SSE   750.061683        0.0        74      0   \n",
       "\n",
       "    will_it_rain  will_it_snow  chance_of_rain  chance_of_snow   uv     place  \\\n",
       "16             0             0               0               0  8.0  Manavgat   \n",
       "17             0             0               0               0  8.0  Manavgat   \n",
       "18             0             0               0               0  7.0  Manavgat   \n",
       "19             0             0               0               0  7.0  Manavgat   \n",
       "\n",
       "     region country    lat    lon  hour     linear  \n",
       "16  Antalya  Turkey  36.76  31.45    16  44.499925  \n",
       "17  Antalya  Turkey  36.76  31.45    17  43.669929  \n",
       "18  Antalya  Turkey  36.76  31.45    18  42.839934  \n",
       "19  Antalya  Turkey  36.76  31.45    19  42.009938  "
      ]
     },
     "execution_count": 47,
     "metadata": {},
     "output_type": "execute_result"
    }
   ],
   "source": [
    "work_df"
   ]
  },
  {
   "cell_type": "code",
   "execution_count": null,
   "metadata": {},
   "outputs": [],
   "source": []
  },
  {
   "cell_type": "code",
   "execution_count": null,
   "metadata": {},
   "outputs": [],
   "source": []
  },
  {
   "cell_type": "code",
   "execution_count": 5,
   "metadata": {},
   "outputs": [],
   "source": [
    "# reading the request from the file\n",
    "with open('request.txt', 'r') as f:\n",
    "    message = f.read()"
   ]
  },
  {
   "cell_type": "code",
   "execution_count": 6,
   "metadata": {},
   "outputs": [],
   "source": [
    "# sending requests to model and saving answer to file\n",
    "answ = gpt.send_message(gpt_api_key, message, model='gpt-4o')\n",
    "with open('output.txt', 'w') as f:\n",
    "    f.write(answ)\n",
    "    f.close()"
   ]
  },
  {
   "cell_type": "code",
   "execution_count": null,
   "metadata": {},
   "outputs": [],
   "source": []
  },
  {
   "cell_type": "code",
   "execution_count": null,
   "metadata": {},
   "outputs": [],
   "source": []
  },
  {
   "cell_type": "code",
   "execution_count": null,
   "metadata": {},
   "outputs": [],
   "source": []
  },
  {
   "cell_type": "code",
   "execution_count": null,
   "metadata": {},
   "outputs": [],
   "source": []
  }
 ],
 "metadata": {
  "kernelspec": {
   "display_name": "Python 3",
   "language": "python",
   "name": "python3"
  },
  "language_info": {
   "codemirror_mode": {
    "name": "ipython",
    "version": 3
   },
   "file_extension": ".py",
   "mimetype": "text/x-python",
   "name": "python",
   "nbconvert_exporter": "python",
   "pygments_lexer": "ipython3",
   "version": "3.10.12"
  }
 },
 "nbformat": 4,
 "nbformat_minor": 2
}
